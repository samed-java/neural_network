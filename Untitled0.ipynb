{
  "nbformat": 4,
  "nbformat_minor": 0,
  "metadata": {
    "colab": {
      "name": "Untitled0.ipynb",
      "provenance": [],
      "collapsed_sections": []
    },
    "kernelspec": {
      "name": "python3",
      "display_name": "Python 3"
    },
    "language_info": {
      "name": "python"
    }
  },
  "cells": [
    {
      "cell_type": "code",
      "execution_count": 1,
      "metadata": {
        "id": "f8Btr52lTKOd"
      },
      "outputs": [],
      "source": [
        "import numpy as np\n",
        "\n",
        "def flatten(array):\n",
        "    shape = np.shape(array)\n",
        "    a = array.copy()\n",
        "    result = []\n",
        "    while True:\n",
        "        try: \n",
        "            for i in range(len(a)):\n",
        "                result += a[i]\n",
        "            a = result.copy()\n",
        "            result = []\n",
        "        except(TypeError):\n",
        "            break\n",
        "        \n",
        "    return a , shape"
      ]
    },
    {
      "cell_type": "code",
      "source": [
        "import math as m\n",
        "\n",
        "def np_to_list2D(array):\n",
        "    l = []\n",
        "    for i in array:\n",
        "        l.append(list(i))\n",
        "    return l\n",
        "\n",
        "def maxpool(arr,shape,st=1):\n",
        "    array = np_to_list2D(arr)\n",
        "    result = []\n",
        "    node = []\n",
        "    mat=[]\n",
        "\n",
        "    for i in range(0,len(array)-shape[0]+1,st):\n",
        "        node = []\n",
        "        for j in range(0,len(array[0])-shape[1]+1,st):\n",
        "            mat = []\n",
        "            for d in array[i:i+shape[0]]:\n",
        "                a = d[j:j+shape[0]]\n",
        "                mat += a\n",
        "            node.append(max(mat))\n",
        "        result.append(node)\n",
        "               \n",
        "\n",
        "                \n",
        "    return result\n",
        "\n",
        "def minpool(arr,shape,st=1):\n",
        "    array = np_to_list2D(arr)\n",
        "    result = []\n",
        "    node = []\n",
        "    mat=[]\n",
        "\n",
        "    for i in range(0,len(array)-shape[0]+1,st):\n",
        "        node = []\n",
        "        for j in range(0,len(array[0])-shape[1]+1,st):\n",
        "            mat = []\n",
        "            for d in array[i:i+shape[0]]:\n",
        "                a = d[j:j+shape[0]]\n",
        "                mat += a\n",
        "            node.append(min(mat))\n",
        "        result.append(node)\n",
        "               \n",
        "\n",
        "                \n",
        "    return result\n",
        "\n",
        "\n",
        "def avgpool(arr,shape,st=1):\n",
        "    array = np_to_list2D(arr)\n",
        "    result = []\n",
        "    node = []\n",
        "    mat=[]\n",
        "\n",
        "    for i in range(0,len(array)-shape[0]+1,st):\n",
        "        node = []\n",
        "        for j in range(0,len(array[0])-shape[1]+1,st):\n",
        "            mat = []\n",
        "            for d in array[i:i+shape[0]]:\n",
        "                a = d[j:j+shape[0]]\n",
        "                mat += a\n",
        "            node.append(sum(mat)//len(mat))\n",
        "        result.append(node)\n",
        "               \n",
        "\n",
        "                \n",
        "    return result\n"
      ],
      "metadata": {
        "id": "EV5HbOtmTZd7"
      },
      "execution_count": 19,
      "outputs": []
    },
    {
      "cell_type": "code",
      "source": [
        "\n",
        "def random_filter(start,end,shape):\n",
        "    return np.random.randint(start,end,shape)\n",
        "\n",
        "def conv2d(array,filr,st=1):\n",
        "    #array = np.array(arr)\n",
        "    filterr = np.array(filr)\n",
        "    matr = [[0 for i in range(len(filterr))] for i in range(len(filterr[0]))]\n",
        "    cell = []\n",
        "    res = []\n",
        "    for i in range(0,len(array)-len(filterr)+1,st):\n",
        "        cell = []\n",
        "        for j in range(0,len(array[0])-len(filterr[0])+1,st):\n",
        "            for k in range(len(filterr)):\n",
        "                for d in range(0,len(filterr[0])):\n",
        "                    matr[k][d] = array[i+k][j+d]* filterr[k][d]\n",
        "            cell.append(sum([sum(i) for i in matr]))\n",
        "        res.append(cell)\n",
        "    inp_shape = np.shape(array)\n",
        "    filter_shape = np.shape(filterr)\n",
        "    out_shape = np.shape(res)\n",
        "            \n",
        "                \n",
        "    return res ,inp_shape, filter_shape, out_shape"
      ],
      "metadata": {
        "id": "Zd6hSBBGTsRd"
      },
      "execution_count": 8,
      "outputs": []
    },
    {
      "cell_type": "code",
      "source": [
        "def avg_pool(array,shape):\n",
        "    if(len(shape)==2):\n",
        "        if(shape[0] != shape[1]):\n",
        "            raise print('Area must be quadratic')\n",
        "    selected_area=[]\n",
        "    result = []\n",
        "    res = []\n",
        "    node_count=0\n",
        "    for i in range(0,np.shape(array)[0],shape[0]):\n",
        "        for j in range(0,np.shape(array)[1],shape[1]):\n",
        "            for k in range(i,i+shape[1],1):\n",
        "                selected_area += array[k][j:j+shape[1]]\n",
        "            result.append(sum(selected_area)/len(selected_area))\n",
        "            node_count +=1\n",
        "            selected_area = []\n",
        "    for i in range(0,len(result),int(m.sqrt(len(result)))):\n",
        "        res.append(result[i:int(i+m.sqrt(len(result)))])\n",
        "        \n",
        "    return res\n",
        "\n",
        "def min_pool(array,shape):\n",
        "    if(len(shape)==2):\n",
        "        if(shape[0] != shape[1]):\n",
        "            raise print('Area must be quadratic')\n",
        "    selected_area=[]\n",
        "    result = []\n",
        "    res = []\n",
        "    node_count=0\n",
        "    for i in range(0,np.shape(array)[0],shape[0]):\n",
        "        for j in range(0,np.shape(array)[1],shape[1]):\n",
        "            for k in range(i,i+shape[1],1):\n",
        "                selected_area += array[k][j:j+shape[1]]\n",
        "            result.append(min(selected_area))\n",
        "            node_count +=1\n",
        "            selected_area = []\n",
        "    for i in range(0,len(result),int(m.sqrt(len(result)))):\n",
        "        res.append(result[i:int(i+m.sqrt(len(result)))])\n",
        "        \n",
        "    return res\n",
        "\n",
        "def max_pool(array,shape):\n",
        "    if(len(shape)==2):\n",
        "        if(shape[0] != shape[1]):\n",
        "            raise print('Area must be quadratic')\n",
        "    selected_area=[]\n",
        "    result = []\n",
        "    res = []\n",
        "    node_count=0\n",
        "    for i in range(0,np.shape(array)[0],shape[0]):\n",
        "        for j in range(0,np.shape(array)[1],shape[1]):\n",
        "            for k in range(i,i+shape[1],1):\n",
        "                selected_area += array[k][j:j+shape[1]]\n",
        "            result.append(max(selected_area))\n",
        "            node_count +=1\n",
        "            selected_area = []\n",
        "    for i in range(0,len(result),int(m.sqrt(len(result)))):\n",
        "        res.append(result[i:int(i+m.sqrt(len(result)))])\n",
        "        \n",
        "    return res"
      ],
      "metadata": {
        "id": "QCTbsoC7T06h"
      },
      "execution_count": 14,
      "outputs": []
    },
    {
      "cell_type": "code",
      "source": [
        "\n",
        "array = [\n",
        "    [3,3,2,1,0,7],\n",
        "    [0,0,1,3,1,8],\n",
        "    [3,1,2,2,3,6],\n",
        "    [2,0,0,2,2,5],\n",
        "    [2,0,0,0,1,3],\n",
        "    [2,0,0,0,1,3]\n",
        "\n",
        "    ]\n",
        "\n",
        "filterr = [\n",
        "    [0,1,2],\n",
        "    [2,2,0],\n",
        "    [0,1,2],\n",
        "    ]\n",
        "\n",
        "result,input_shape,filter_shape,output_shape = conv2d(array, filterr)\n",
        "print(result,2)\n",
        "print(input_shape)\n",
        "print(filter_shape)\n",
        "print(output_shape)\n",
        "#print(random_filter(0, 10, (3,3)))"
      ],
      "metadata": {
        "colab": {
          "base_uri": "https://localhost:8080/"
        },
        "id": "m1g1rUqNUCXk",
        "outputId": "11a69ff6-3804-455c-f831-deba3ed83d15"
      },
      "execution_count": 9,
      "outputs": [
        {
          "output_type": "stream",
          "name": "stdout",
          "text": [
            "[[12, 12, 17, 37], [10, 17, 19, 39], [9, 6, 14, 30], [4, 4, 8, 21]] 2\n",
            "(6, 6)\n",
            "(3, 3)\n",
            "(4, 4)\n",
            "[[4 6 2]\n",
            " [5 1 7]\n",
            " [1 4 6]]\n"
          ]
        }
      ]
    },
    {
      "cell_type": "code",
      "source": [
        "array = np.array([\n",
        "    [3,3,2,1,1,7],\n",
        "    [0,0,1,3,1,8],\n",
        "    [3,1,2,2,3,6],\n",
        "    [2,0,0,2,2,5],\n",
        "    [2,0,0,0,1,3],\n",
        "    [2,0,0,0,1,3]\n",
        "    ])\n",
        "\n",
        "print(maxpool(array, (3,3),st=3))\n",
        "print(minpool(array, (3,3),st=3))\n",
        "print(avgpool(array, (3,3),st=3))\n"
      ],
      "metadata": {
        "colab": {
          "base_uri": "https://localhost:8080/"
        },
        "id": "3rozsYFnVGq7",
        "outputId": "294928db-79ec-4ea2-f3b9-1e53c426b39e"
      },
      "execution_count": 20,
      "outputs": [
        {
          "output_type": "stream",
          "name": "stdout",
          "text": [
            "[[3, 8], [2, 5]]\n",
            "[[0, 1], [0, 0]]\n",
            "[[1, 3], [0, 1]]\n"
          ]
        }
      ]
    },
    {
      "cell_type": "code",
      "source": [
        "import matplotlib.pyplot as plt\n",
        "from PIL import Image\n",
        "\n",
        "def MCarea(img, gen_num):\n",
        "    obj = np.array(img)[:, :, 0]    \n",
        "    a = np.random.randint(0, len(obj[0, :]), gen_num)\n",
        "    b = np.random.randint(0, len(obj[:, 0]), gen_num)\n",
        "    rand_map = np.vstack((a, b)).astype('int')\n",
        "    plt.plot(rand_map[0, :], rand_map[1, :], 'o')\n",
        "    total_area = np.shape(obj)[0]*np.shape(obj)[1]\n",
        "    #mapping\n",
        "    a = obj[rand_map[1, :], rand_map[0, :]] == 0\n",
        "    #find number of point in zone\n",
        "    number_of_p_in_zone = np.sum(a)\n",
        "    \n",
        "    #area\n",
        "    area = (number_of_p_in_zone/gen_num)*total_area\n",
        "    \n",
        "    return(area)\n",
        "\n",
        "\n",
        "#test on stability\n",
        "img = Image.open(r\"object.png\")\n",
        "gen_test = np.arange(10, 50000, 30)\n",
        "data = []\n",
        "for i in range(len(gen_test)):\n",
        "    data.append(MCarea(img, gen_test[i]))\n",
        "    \n",
        "    \n",
        "plt.plot(gen_test, data)\n",
        "\n",
        "\n",
        "\n",
        "\n",
        "\n"
      ],
      "metadata": {
        "colab": {
          "base_uri": "https://localhost:8080/",
          "height": 282
        },
        "id": "FVbLXo33W4bn",
        "outputId": "307a9360-992c-4fce-d149-e2816279c335"
      },
      "execution_count": 21,
      "outputs": [
        {
          "output_type": "execute_result",
          "data": {
            "text/plain": [
              "[<matplotlib.lines.Line2D at 0x7f8cd3646ed0>]"
            ]
          },
          "metadata": {},
          "execution_count": 21
        },
        {
          "output_type": "display_data",
          "data": {
            "image/png": "[encoded data removed]",
            "text/plain": [
              "<Figure size 432x288 with 1 Axes>"
            ]
          },
          "metadata": {
            "needs_background": "light"
          }
        }
      ]
    },
    {
      "cell_type": "code",
      "source": [
        "from numpy.linalg import matrix_power\n",
        "import matplotlib.pyplot as plt\n",
        "\n",
        "events = ['rainy', 'sunny', 'cloudy']\n",
        "\n",
        "transition = np.array([[0.5, 0.25, 0.25], [0.5, 0, 0.5], [0.25, 0.25, 0.5]])\n",
        "\n",
        "rain_ = np.array([1, 0, 0])\n",
        "sun_ = np.array([0, 1, 0])\n",
        "cloud_ = np.array([0, 0, 1])\n",
        "\n",
        "sun_pred = sun_.dot(matrix_power(transition, 7))\n",
        "\n",
        "\n",
        "\n",
        "#evals, evecs = np.linalg.eig(transition.T)\n",
        "#evec1 = evecs[:,np.isclose(evals, 1)]\n",
        "\n",
        "#evec1 = evec1[:,0]\n",
        "\n",
        "#stationary = evec1 / evec1.sum()\n",
        "\n",
        "#stationary = stationary.real\n",
        "stationary = []\n",
        "i = 1\n",
        "while True:\n",
        "  sun_pred_1 = sun_.dot(matrix_power(transition, i))\n",
        "  sun_pred_2 = sun_.dot(matrix_power(transition, i+2))\n",
        "  stationary = sun_pred_2\n",
        "  if(all(sun_pred_1 == sun_pred_2)):\n",
        "    break\n",
        "  i+=1\n",
        "\n",
        "\n",
        "\n",
        "print(stationary)\n",
        "\n",
        "#talk about rock reconstruction (porosity, permeability)"
      ],
      "metadata": {
        "colab": {
          "base_uri": "https://localhost:8080/"
        },
        "id": "5N16B3nZbAS7",
        "outputId": "af85bca2-313a-4362-f3d1-0ddd005a0d80"
      },
      "execution_count": 23,
      "outputs": [
        {
          "output_type": "stream",
          "name": "stdout",
          "text": [
            "[0.4 0.2 0.4]\n"
          ]
        }
      ]
    }
  ]
}